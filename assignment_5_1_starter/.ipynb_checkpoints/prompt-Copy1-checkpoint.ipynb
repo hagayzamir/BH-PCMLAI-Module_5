{
 "cells": [
  {
   "cell_type": "code",
   "execution_count": null,
   "metadata": {},
   "outputs": [],
   "source": []
  },
  {
   "cell_type": "markdown",
   "metadata": {},
   "source": [
    "### Will a Customer Accept the Coupon?\n",
    "\n",
    "**Context**\n",
    "\n",
    "Imagine driving through town and a coupon is delivered to your cell phone for a restaraunt near where you are driving. Would you accept that coupon and take a short detour to the restaraunt? Would you accept the coupon but use it on a sunbsequent trip? Would you ignore the coupon entirely? What if the coupon was for a bar instead of a restaraunt? What about a coffee house? Would you accept a bar coupon with a minor passenger in the car? What about if it was just you and your partner in the car? Would weather impact the rate of acceptance? What about the time of day?\n",
    "\n",
    "Obviously, proximity to the business is a factor on whether the coupon is delivered to the driver or not, but what are the factors that determine whether a driver accepts the coupon once it is delivered to them? How would you determine whether a driver is likely to accept a coupon?\n",
    "\n",
    "**Overview**\n",
    "\n",
    "The goal of this project is to use what you know about visualizations and probability distributions to distinguish between customers who accepted a driving coupon versus those that did not.\n",
    "\n",
    "**Data**\n",
    "\n",
    "This data comes to us from the UCI Machine Learning repository and was collected via a survey on Amazon Mechanical Turk. The survey describes different driving scenarios including the destination, current time, weather, passenger, etc., and then ask the person whether he will accept the coupon if he is the driver. Answers that the user will drive there ‘right away’ or ‘later before the coupon expires’ are labeled as ‘Y = 1’ and answers ‘no, I do not want the coupon’ are labeled as ‘Y = 0’.  There are five different types of coupons -- less expensive restaurants (under \\\\$20), coffee houses, carry out & take away, bar, and more expensive restaurants (\\\\$20 - \\\\$50). "
   ]
  },
  {
   "cell_type": "markdown",
   "metadata": {},
   "source": [
    "**Deliverables**\n",
    "\n",
    "Your final product should be a brief report that highlights the differences between customers who did and did not accept the coupons.  To explore the data you will utilize your knowledge of plotting, statistical summaries, and visualization using Python. You will publish your findings in a public facing github repository as your first portfolio piece. \n",
    "\n",
    "\n",
    "\n"
   ]
  },
  {
   "cell_type": "markdown",
   "metadata": {},
   "source": [
    "### Data Description\n",
    "Keep in mind that these values mentioned below are average values.\n",
    "\n",
    "The attributes of this data set include:\n",
    "1. User attributes\n",
    "    -  Gender: male, female\n",
    "    -  Age: below 21, 21 to 25, 26 to 30, etc.\n",
    "    -  Marital Status: single, married partner, unmarried partner, or widowed\n",
    "    -  Number of children: 0, 1, or more than 1\n",
    "    -  Education: high school, bachelors degree, associates degree, or graduate degree\n",
    "    -  Occupation: architecture & engineering, business & financial, etc.\n",
    "    -  Annual income: less than \\\\$12500, \\\\$12500 - \\\\$24999, \\\\$25000 - \\\\$37499, etc.\n",
    "    -  Number of times that he/she goes to a bar: 0, less than 1, 1 to 3, 4 to 8 or greater than 8\n",
    "    -  Number of times that he/she buys takeaway food: 0, less than 1, 1 to 3, 4 to 8 or greater\n",
    "    than 8\n",
    "    -  Number of times that he/she goes to a coffee house: 0, less than 1, 1 to 3, 4 to 8 or\n",
    "    greater than 8\n",
    "    -  Number of times that he/she eats at a restaurant with average expense less than \\\\$20 per\n",
    "    person: 0, less than 1, 1 to 3, 4 to 8 or greater than 8\n",
    "    -  Number of times that he/she goes to a bar: 0, less than 1, 1 to 3, 4 to 8 or greater than 8\n",
    "    \n",
    "\n",
    "2. Contextual attributes\n",
    "    - Driving destination: home, work, or no urgent destination\n",
    "    - Location of user, coupon and destination: we provide a map to show the geographical\n",
    "    location of the user, destination, and the venue, and we mark the distance between each\n",
    "    two places with time of driving. The user can see whether the venue is in the same\n",
    "    direction as the destination.\n",
    "    - Weather: sunny, rainy, or snowy\n",
    "    - Temperature: 30F, 55F, or 80F\n",
    "    - Time: 10AM, 2PM, or 6PM\n",
    "    - Passenger: alone, partner, kid(s), or friend(s)\n",
    "\n",
    "\n",
    "3. Coupon attributes\n",
    "    - time before it expires: 2 hours or one day"
   ]
  },
  {
   "cell_type": "code",
   "execution_count": 1,
   "metadata": {},
   "outputs": [],
   "source": [
    "import matplotlib.pyplot as plt\n",
    "import seaborn as sns\n",
    "import pandas as pd\n",
    "import numpy as np\n",
    "import plotly.express as px\n",
    "#import plotly.offline as pyo\n",
    "#pyo.init_notebook_mode()"
   ]
  },
  {
   "cell_type": "markdown",
   "metadata": {},
   "source": [
    "### Problems\n",
    "\n",
    "Use the prompts below to get started with your data analysis.  \n",
    "\n",
    "1. Read in the `coupons.csv` file.\n",
    "\n",
    "\n"
   ]
  },
  {
   "cell_type": "code",
   "execution_count": 2,
   "metadata": {},
   "outputs": [],
   "source": [
    "data = pd.read_csv('data/coupons.csv')"
   ]
  },
  {
   "cell_type": "code",
   "execution_count": 3,
   "metadata": {},
   "outputs": [
    {
     "data": {
      "text/html": [
       "<div>\n",
       "<style scoped>\n",
       "    .dataframe tbody tr th:only-of-type {\n",
       "        vertical-align: middle;\n",
       "    }\n",
       "\n",
       "    .dataframe tbody tr th {\n",
       "        vertical-align: top;\n",
       "    }\n",
       "\n",
       "    .dataframe thead th {\n",
       "        text-align: right;\n",
       "    }\n",
       "</style>\n",
       "<table border=\"1\" class=\"dataframe\">\n",
       "  <thead>\n",
       "    <tr style=\"text-align: right;\">\n",
       "      <th></th>\n",
       "      <th>destination</th>\n",
       "      <th>passanger</th>\n",
       "      <th>weather</th>\n",
       "      <th>temperature</th>\n",
       "      <th>time</th>\n",
       "      <th>coupon</th>\n",
       "      <th>expiration</th>\n",
       "      <th>gender</th>\n",
       "      <th>age</th>\n",
       "      <th>maritalStatus</th>\n",
       "      <th>...</th>\n",
       "      <th>CoffeeHouse</th>\n",
       "      <th>CarryAway</th>\n",
       "      <th>RestaurantLessThan20</th>\n",
       "      <th>Restaurant20To50</th>\n",
       "      <th>toCoupon_GEQ5min</th>\n",
       "      <th>toCoupon_GEQ15min</th>\n",
       "      <th>toCoupon_GEQ25min</th>\n",
       "      <th>direction_same</th>\n",
       "      <th>direction_opp</th>\n",
       "      <th>Y</th>\n",
       "    </tr>\n",
       "  </thead>\n",
       "  <tbody>\n",
       "    <tr>\n",
       "      <th>0</th>\n",
       "      <td>No Urgent Place</td>\n",
       "      <td>Alone</td>\n",
       "      <td>Sunny</td>\n",
       "      <td>55</td>\n",
       "      <td>2PM</td>\n",
       "      <td>Restaurant(&lt;20)</td>\n",
       "      <td>1d</td>\n",
       "      <td>Female</td>\n",
       "      <td>21</td>\n",
       "      <td>Unmarried partner</td>\n",
       "      <td>...</td>\n",
       "      <td>never</td>\n",
       "      <td>NaN</td>\n",
       "      <td>4~8</td>\n",
       "      <td>1~3</td>\n",
       "      <td>1</td>\n",
       "      <td>0</td>\n",
       "      <td>0</td>\n",
       "      <td>0</td>\n",
       "      <td>1</td>\n",
       "      <td>1</td>\n",
       "    </tr>\n",
       "    <tr>\n",
       "      <th>1</th>\n",
       "      <td>No Urgent Place</td>\n",
       "      <td>Friend(s)</td>\n",
       "      <td>Sunny</td>\n",
       "      <td>80</td>\n",
       "      <td>10AM</td>\n",
       "      <td>Coffee House</td>\n",
       "      <td>2h</td>\n",
       "      <td>Female</td>\n",
       "      <td>21</td>\n",
       "      <td>Unmarried partner</td>\n",
       "      <td>...</td>\n",
       "      <td>never</td>\n",
       "      <td>NaN</td>\n",
       "      <td>4~8</td>\n",
       "      <td>1~3</td>\n",
       "      <td>1</td>\n",
       "      <td>0</td>\n",
       "      <td>0</td>\n",
       "      <td>0</td>\n",
       "      <td>1</td>\n",
       "      <td>0</td>\n",
       "    </tr>\n",
       "    <tr>\n",
       "      <th>2</th>\n",
       "      <td>No Urgent Place</td>\n",
       "      <td>Friend(s)</td>\n",
       "      <td>Sunny</td>\n",
       "      <td>80</td>\n",
       "      <td>10AM</td>\n",
       "      <td>Carry out &amp; Take away</td>\n",
       "      <td>2h</td>\n",
       "      <td>Female</td>\n",
       "      <td>21</td>\n",
       "      <td>Unmarried partner</td>\n",
       "      <td>...</td>\n",
       "      <td>never</td>\n",
       "      <td>NaN</td>\n",
       "      <td>4~8</td>\n",
       "      <td>1~3</td>\n",
       "      <td>1</td>\n",
       "      <td>1</td>\n",
       "      <td>0</td>\n",
       "      <td>0</td>\n",
       "      <td>1</td>\n",
       "      <td>1</td>\n",
       "    </tr>\n",
       "    <tr>\n",
       "      <th>3</th>\n",
       "      <td>No Urgent Place</td>\n",
       "      <td>Friend(s)</td>\n",
       "      <td>Sunny</td>\n",
       "      <td>80</td>\n",
       "      <td>2PM</td>\n",
       "      <td>Coffee House</td>\n",
       "      <td>2h</td>\n",
       "      <td>Female</td>\n",
       "      <td>21</td>\n",
       "      <td>Unmarried partner</td>\n",
       "      <td>...</td>\n",
       "      <td>never</td>\n",
       "      <td>NaN</td>\n",
       "      <td>4~8</td>\n",
       "      <td>1~3</td>\n",
       "      <td>1</td>\n",
       "      <td>1</td>\n",
       "      <td>0</td>\n",
       "      <td>0</td>\n",
       "      <td>1</td>\n",
       "      <td>0</td>\n",
       "    </tr>\n",
       "    <tr>\n",
       "      <th>4</th>\n",
       "      <td>No Urgent Place</td>\n",
       "      <td>Friend(s)</td>\n",
       "      <td>Sunny</td>\n",
       "      <td>80</td>\n",
       "      <td>2PM</td>\n",
       "      <td>Coffee House</td>\n",
       "      <td>1d</td>\n",
       "      <td>Female</td>\n",
       "      <td>21</td>\n",
       "      <td>Unmarried partner</td>\n",
       "      <td>...</td>\n",
       "      <td>never</td>\n",
       "      <td>NaN</td>\n",
       "      <td>4~8</td>\n",
       "      <td>1~3</td>\n",
       "      <td>1</td>\n",
       "      <td>1</td>\n",
       "      <td>0</td>\n",
       "      <td>0</td>\n",
       "      <td>1</td>\n",
       "      <td>0</td>\n",
       "    </tr>\n",
       "  </tbody>\n",
       "</table>\n",
       "<p>5 rows × 26 columns</p>\n",
       "</div>"
      ],
      "text/plain": [
       "       destination  passanger weather  temperature  time  \\\n",
       "0  No Urgent Place      Alone   Sunny           55   2PM   \n",
       "1  No Urgent Place  Friend(s)   Sunny           80  10AM   \n",
       "2  No Urgent Place  Friend(s)   Sunny           80  10AM   \n",
       "3  No Urgent Place  Friend(s)   Sunny           80   2PM   \n",
       "4  No Urgent Place  Friend(s)   Sunny           80   2PM   \n",
       "\n",
       "                  coupon expiration  gender age      maritalStatus  ...  \\\n",
       "0        Restaurant(<20)         1d  Female  21  Unmarried partner  ...   \n",
       "1           Coffee House         2h  Female  21  Unmarried partner  ...   \n",
       "2  Carry out & Take away         2h  Female  21  Unmarried partner  ...   \n",
       "3           Coffee House         2h  Female  21  Unmarried partner  ...   \n",
       "4           Coffee House         1d  Female  21  Unmarried partner  ...   \n",
       "\n",
       "   CoffeeHouse CarryAway RestaurantLessThan20 Restaurant20To50  \\\n",
       "0        never       NaN                  4~8              1~3   \n",
       "1        never       NaN                  4~8              1~3   \n",
       "2        never       NaN                  4~8              1~3   \n",
       "3        never       NaN                  4~8              1~3   \n",
       "4        never       NaN                  4~8              1~3   \n",
       "\n",
       "  toCoupon_GEQ5min toCoupon_GEQ15min toCoupon_GEQ25min direction_same  \\\n",
       "0                1                 0                 0              0   \n",
       "1                1                 0                 0              0   \n",
       "2                1                 1                 0              0   \n",
       "3                1                 1                 0              0   \n",
       "4                1                 1                 0              0   \n",
       "\n",
       "  direction_opp  Y  \n",
       "0             1  1  \n",
       "1             1  0  \n",
       "2             1  1  \n",
       "3             1  0  \n",
       "4             1  0  \n",
       "\n",
       "[5 rows x 26 columns]"
      ]
     },
     "execution_count": 3,
     "metadata": {},
     "output_type": "execute_result"
    }
   ],
   "source": [
    "data.head()"
   ]
  },
  {
   "cell_type": "markdown",
   "metadata": {},
   "source": [
    "2. Investigate the dataset for missing or problematic data."
   ]
  },
  {
   "cell_type": "code",
   "execution_count": 4,
   "metadata": {},
   "outputs": [
    {
     "name": "stdout",
     "output_type": "stream",
     "text": [
      "<class 'pandas.core.frame.DataFrame'>\n",
      "RangeIndex: 12684 entries, 0 to 12683\n",
      "Data columns (total 26 columns):\n",
      " #   Column                Non-Null Count  Dtype \n",
      "---  ------                --------------  ----- \n",
      " 0   destination           12684 non-null  object\n",
      " 1   passanger             12684 non-null  object\n",
      " 2   weather               12684 non-null  object\n",
      " 3   temperature           12684 non-null  int64 \n",
      " 4   time                  12684 non-null  object\n",
      " 5   coupon                12684 non-null  object\n",
      " 6   expiration            12684 non-null  object\n",
      " 7   gender                12684 non-null  object\n",
      " 8   age                   12684 non-null  object\n",
      " 9   maritalStatus         12684 non-null  object\n",
      " 10  has_children          12684 non-null  int64 \n",
      " 11  education             12684 non-null  object\n",
      " 12  occupation            12684 non-null  object\n",
      " 13  income                12684 non-null  object\n",
      " 14  car                   108 non-null    object\n",
      " 15  Bar                   12577 non-null  object\n",
      " 16  CoffeeHouse           12467 non-null  object\n",
      " 17  CarryAway             12533 non-null  object\n",
      " 18  RestaurantLessThan20  12554 non-null  object\n",
      " 19  Restaurant20To50      12495 non-null  object\n",
      " 20  toCoupon_GEQ5min      12684 non-null  int64 \n",
      " 21  toCoupon_GEQ15min     12684 non-null  int64 \n",
      " 22  toCoupon_GEQ25min     12684 non-null  int64 \n",
      " 23  direction_same        12684 non-null  int64 \n",
      " 24  direction_opp         12684 non-null  int64 \n",
      " 25  Y                     12684 non-null  int64 \n",
      "dtypes: int64(8), object(18)\n",
      "memory usage: 2.5+ MB\n"
     ]
    }
   ],
   "source": [
    "data.info()"
   ]
  },
  {
   "cell_type": "code",
   "execution_count": 5,
   "metadata": {
    "scrolled": true
   },
   "outputs": [
    {
     "data": {
      "text/plain": [
       "destination                 0\n",
       "passanger                   0\n",
       "weather                     0\n",
       "temperature                 0\n",
       "time                        0\n",
       "coupon                      0\n",
       "expiration                  0\n",
       "gender                      0\n",
       "age                         0\n",
       "maritalStatus               0\n",
       "has_children                0\n",
       "education                   0\n",
       "occupation                  0\n",
       "income                      0\n",
       "car                     12576\n",
       "Bar                       107\n",
       "CoffeeHouse               217\n",
       "CarryAway                 151\n",
       "RestaurantLessThan20      130\n",
       "Restaurant20To50          189\n",
       "toCoupon_GEQ5min            0\n",
       "toCoupon_GEQ15min           0\n",
       "toCoupon_GEQ25min           0\n",
       "direction_same              0\n",
       "direction_opp               0\n",
       "Y                           0\n",
       "dtype: int64"
      ]
     },
     "execution_count": 5,
     "metadata": {},
     "output_type": "execute_result"
    }
   ],
   "source": [
    "data.isnull().sum()"
   ]
  },
  {
   "cell_type": "markdown",
   "metadata": {},
   "source": [
    "3. Decide what to do about your missing data -- drop, replace, other..."
   ]
  },
  {
   "cell_type": "markdown",
   "metadata": {},
   "source": [
    "### Data cleaning\n",
    "\n",
    "I've decided to drop the car column due to too many missing data and being irrelevant to my exploration, there after i removed all the null (or missing) values\n",
    "\n",
    "I checked again the data information to see how many rows are in total, from the original  rows, I lost.\n",
    "In total we dropped 605 rows which is about 5% of the total data we started with.  12684 - 12079 = 605"
   ]
  },
  {
   "cell_type": "code",
   "execution_count": 6,
   "metadata": {},
   "outputs": [],
   "source": [
    "data = data.drop(columns=['car'])\n",
    "data = data.dropna()"
   ]
  },
  {
   "cell_type": "markdown",
   "metadata": {},
   "source": [
    "4. What proportion of the total observations chose to accept the coupon? \n",
    "\n"
   ]
  },
  {
   "cell_type": "code",
   "execution_count": 20,
   "metadata": {},
   "outputs": [],
   "source": [
    "df_accepted_coupon = data[\"Y\"]\n",
    "total_rows = df_accepted_coupon.count()\n",
    "accepted_coupon = df_accepted_coupon.sum()\n",
    "not_accepted_coupon = total_rows - accepted_coupon\n",
    "\n",
    "proportion = (accepted_coupon * 100) / total_rows\n",
    "#proportion\n",
    "\n",
    "#print(np.round(proportion,2),'% of the total observations chose to accept the coupon')"
   ]
  },
  {
   "cell_type": "markdown",
   "metadata": {},
   "source": [
    "> **56.93 % of the total observations chose to accept the coupon**"
   ]
  },
  {
   "cell_type": "code",
   "execution_count": null,
   "metadata": {},
   "outputs": [],
   "source": []
  },
  {
   "cell_type": "markdown",
   "metadata": {},
   "source": [
    "5. Use a bar plot to visualize the `coupon` column."
   ]
  },
  {
   "cell_type": "code",
   "execution_count": 8,
   "metadata": {},
   "outputs": [
    {
     "data": {
      "image/png": "[encoded data removed]"
     },
     "metadata": {},
     "output_type": "display_data"
    }
   ],
   "source": [
    "hist = px.histogram(data, x= 'coupon')\n",
    "hist.show('png')"
   ]
  },
  {
   "cell_type": "markdown",
   "metadata": {},
   "source": [
    "6. Use a histogram to visualize the temperature column."
   ]
  },
  {
   "cell_type": "code",
   "execution_count": 9,
   "metadata": {},
   "outputs": [
    {
     "data": {
      "image/png": "[encoded data removed]"
     },
     "metadata": {},
     "output_type": "display_data"
    }
   ],
   "source": [
    "hist = px.histogram(data, x= 'temperature')\n",
    "hist.show('png')"
   ]
  },
  {
   "cell_type": "markdown",
   "metadata": {},
   "source": [
    "**Investigating the Bar Coupons**\n",
    "\n",
    "Now, we will lead you through an exploration of just the bar related coupons.  \n",
    "\n",
    "1. Create a new `DataFrame` that contains just the bar coupons.\n"
   ]
  },
  {
   "cell_type": "code",
   "execution_count": 30,
   "metadata": {},
   "outputs": [
    {
     "data": {
      "text/html": [
       "<div>\n",
       "<style scoped>\n",
       "    .dataframe tbody tr th:only-of-type {\n",
       "        vertical-align: middle;\n",
       "    }\n",
       "\n",
       "    .dataframe tbody tr th {\n",
       "        vertical-align: top;\n",
       "    }\n",
       "\n",
       "    .dataframe thead th {\n",
       "        text-align: right;\n",
       "    }\n",
       "</style>\n",
       "<table border=\"1\" class=\"dataframe\">\n",
       "  <thead>\n",
       "    <tr style=\"text-align: right;\">\n",
       "      <th></th>\n",
       "      <th>destination</th>\n",
       "      <th>passanger</th>\n",
       "      <th>weather</th>\n",
       "      <th>temperature</th>\n",
       "      <th>time</th>\n",
       "      <th>coupon</th>\n",
       "      <th>expiration</th>\n",
       "      <th>gender</th>\n",
       "      <th>age</th>\n",
       "      <th>maritalStatus</th>\n",
       "      <th>...</th>\n",
       "      <th>CoffeeHouse</th>\n",
       "      <th>CarryAway</th>\n",
       "      <th>RestaurantLessThan20</th>\n",
       "      <th>Restaurant20To50</th>\n",
       "      <th>toCoupon_GEQ5min</th>\n",
       "      <th>toCoupon_GEQ15min</th>\n",
       "      <th>toCoupon_GEQ25min</th>\n",
       "      <th>direction_same</th>\n",
       "      <th>direction_opp</th>\n",
       "      <th>Y</th>\n",
       "    </tr>\n",
       "  </thead>\n",
       "  <tbody>\n",
       "    <tr>\n",
       "      <th>24</th>\n",
       "      <td>No Urgent Place</td>\n",
       "      <td>Friend(s)</td>\n",
       "      <td>Sunny</td>\n",
       "      <td>80</td>\n",
       "      <td>10AM</td>\n",
       "      <td>Bar</td>\n",
       "      <td>1d</td>\n",
       "      <td>Male</td>\n",
       "      <td>21</td>\n",
       "      <td>Single</td>\n",
       "      <td>...</td>\n",
       "      <td>less1</td>\n",
       "      <td>4~8</td>\n",
       "      <td>4~8</td>\n",
       "      <td>less1</td>\n",
       "      <td>1</td>\n",
       "      <td>0</td>\n",
       "      <td>0</td>\n",
       "      <td>0</td>\n",
       "      <td>1</td>\n",
       "      <td>1</td>\n",
       "    </tr>\n",
       "    <tr>\n",
       "      <th>35</th>\n",
       "      <td>Home</td>\n",
       "      <td>Alone</td>\n",
       "      <td>Sunny</td>\n",
       "      <td>55</td>\n",
       "      <td>6PM</td>\n",
       "      <td>Bar</td>\n",
       "      <td>1d</td>\n",
       "      <td>Male</td>\n",
       "      <td>21</td>\n",
       "      <td>Single</td>\n",
       "      <td>...</td>\n",
       "      <td>less1</td>\n",
       "      <td>4~8</td>\n",
       "      <td>4~8</td>\n",
       "      <td>less1</td>\n",
       "      <td>1</td>\n",
       "      <td>0</td>\n",
       "      <td>0</td>\n",
       "      <td>1</td>\n",
       "      <td>0</td>\n",
       "      <td>1</td>\n",
       "    </tr>\n",
       "    <tr>\n",
       "      <th>39</th>\n",
       "      <td>Work</td>\n",
       "      <td>Alone</td>\n",
       "      <td>Sunny</td>\n",
       "      <td>55</td>\n",
       "      <td>7AM</td>\n",
       "      <td>Bar</td>\n",
       "      <td>1d</td>\n",
       "      <td>Male</td>\n",
       "      <td>21</td>\n",
       "      <td>Single</td>\n",
       "      <td>...</td>\n",
       "      <td>less1</td>\n",
       "      <td>4~8</td>\n",
       "      <td>4~8</td>\n",
       "      <td>less1</td>\n",
       "      <td>1</td>\n",
       "      <td>1</td>\n",
       "      <td>1</td>\n",
       "      <td>0</td>\n",
       "      <td>1</td>\n",
       "      <td>1</td>\n",
       "    </tr>\n",
       "    <tr>\n",
       "      <th>46</th>\n",
       "      <td>No Urgent Place</td>\n",
       "      <td>Friend(s)</td>\n",
       "      <td>Sunny</td>\n",
       "      <td>80</td>\n",
       "      <td>10AM</td>\n",
       "      <td>Bar</td>\n",
       "      <td>1d</td>\n",
       "      <td>Male</td>\n",
       "      <td>46</td>\n",
       "      <td>Single</td>\n",
       "      <td>...</td>\n",
       "      <td>4~8</td>\n",
       "      <td>1~3</td>\n",
       "      <td>1~3</td>\n",
       "      <td>never</td>\n",
       "      <td>1</td>\n",
       "      <td>0</td>\n",
       "      <td>0</td>\n",
       "      <td>0</td>\n",
       "      <td>1</td>\n",
       "      <td>0</td>\n",
       "    </tr>\n",
       "    <tr>\n",
       "      <th>57</th>\n",
       "      <td>Home</td>\n",
       "      <td>Alone</td>\n",
       "      <td>Sunny</td>\n",
       "      <td>55</td>\n",
       "      <td>6PM</td>\n",
       "      <td>Bar</td>\n",
       "      <td>1d</td>\n",
       "      <td>Male</td>\n",
       "      <td>46</td>\n",
       "      <td>Single</td>\n",
       "      <td>...</td>\n",
       "      <td>4~8</td>\n",
       "      <td>1~3</td>\n",
       "      <td>1~3</td>\n",
       "      <td>never</td>\n",
       "      <td>1</td>\n",
       "      <td>0</td>\n",
       "      <td>0</td>\n",
       "      <td>1</td>\n",
       "      <td>0</td>\n",
       "      <td>0</td>\n",
       "    </tr>\n",
       "    <tr>\n",
       "      <th>...</th>\n",
       "      <td>...</td>\n",
       "      <td>...</td>\n",
       "      <td>...</td>\n",
       "      <td>...</td>\n",
       "      <td>...</td>\n",
       "      <td>...</td>\n",
       "      <td>...</td>\n",
       "      <td>...</td>\n",
       "      <td>...</td>\n",
       "      <td>...</td>\n",
       "      <td>...</td>\n",
       "      <td>...</td>\n",
       "      <td>...</td>\n",
       "      <td>...</td>\n",
       "      <td>...</td>\n",
       "      <td>...</td>\n",
       "      <td>...</td>\n",
       "      <td>...</td>\n",
       "      <td>...</td>\n",
       "      <td>...</td>\n",
       "      <td>...</td>\n",
       "    </tr>\n",
       "    <tr>\n",
       "      <th>12663</th>\n",
       "      <td>No Urgent Place</td>\n",
       "      <td>Friend(s)</td>\n",
       "      <td>Sunny</td>\n",
       "      <td>80</td>\n",
       "      <td>10PM</td>\n",
       "      <td>Bar</td>\n",
       "      <td>1d</td>\n",
       "      <td>Male</td>\n",
       "      <td>26</td>\n",
       "      <td>Single</td>\n",
       "      <td>...</td>\n",
       "      <td>never</td>\n",
       "      <td>1~3</td>\n",
       "      <td>4~8</td>\n",
       "      <td>1~3</td>\n",
       "      <td>1</td>\n",
       "      <td>1</td>\n",
       "      <td>0</td>\n",
       "      <td>0</td>\n",
       "      <td>1</td>\n",
       "      <td>0</td>\n",
       "    </tr>\n",
       "    <tr>\n",
       "      <th>12664</th>\n",
       "      <td>No Urgent Place</td>\n",
       "      <td>Friend(s)</td>\n",
       "      <td>Sunny</td>\n",
       "      <td>55</td>\n",
       "      <td>10PM</td>\n",
       "      <td>Bar</td>\n",
       "      <td>2h</td>\n",
       "      <td>Male</td>\n",
       "      <td>26</td>\n",
       "      <td>Single</td>\n",
       "      <td>...</td>\n",
       "      <td>never</td>\n",
       "      <td>1~3</td>\n",
       "      <td>4~8</td>\n",
       "      <td>1~3</td>\n",
       "      <td>1</td>\n",
       "      <td>1</td>\n",
       "      <td>0</td>\n",
       "      <td>0</td>\n",
       "      <td>1</td>\n",
       "      <td>0</td>\n",
       "    </tr>\n",
       "    <tr>\n",
       "      <th>12667</th>\n",
       "      <td>No Urgent Place</td>\n",
       "      <td>Alone</td>\n",
       "      <td>Rainy</td>\n",
       "      <td>55</td>\n",
       "      <td>10AM</td>\n",
       "      <td>Bar</td>\n",
       "      <td>1d</td>\n",
       "      <td>Male</td>\n",
       "      <td>26</td>\n",
       "      <td>Single</td>\n",
       "      <td>...</td>\n",
       "      <td>never</td>\n",
       "      <td>1~3</td>\n",
       "      <td>4~8</td>\n",
       "      <td>1~3</td>\n",
       "      <td>1</td>\n",
       "      <td>1</td>\n",
       "      <td>0</td>\n",
       "      <td>0</td>\n",
       "      <td>1</td>\n",
       "      <td>0</td>\n",
       "    </tr>\n",
       "    <tr>\n",
       "      <th>12670</th>\n",
       "      <td>No Urgent Place</td>\n",
       "      <td>Partner</td>\n",
       "      <td>Rainy</td>\n",
       "      <td>55</td>\n",
       "      <td>6PM</td>\n",
       "      <td>Bar</td>\n",
       "      <td>2h</td>\n",
       "      <td>Male</td>\n",
       "      <td>26</td>\n",
       "      <td>Single</td>\n",
       "      <td>...</td>\n",
       "      <td>never</td>\n",
       "      <td>1~3</td>\n",
       "      <td>4~8</td>\n",
       "      <td>1~3</td>\n",
       "      <td>1</td>\n",
       "      <td>1</td>\n",
       "      <td>0</td>\n",
       "      <td>0</td>\n",
       "      <td>1</td>\n",
       "      <td>0</td>\n",
       "    </tr>\n",
       "    <tr>\n",
       "      <th>12682</th>\n",
       "      <td>Work</td>\n",
       "      <td>Alone</td>\n",
       "      <td>Snowy</td>\n",
       "      <td>30</td>\n",
       "      <td>7AM</td>\n",
       "      <td>Bar</td>\n",
       "      <td>1d</td>\n",
       "      <td>Male</td>\n",
       "      <td>26</td>\n",
       "      <td>Single</td>\n",
       "      <td>...</td>\n",
       "      <td>never</td>\n",
       "      <td>1~3</td>\n",
       "      <td>4~8</td>\n",
       "      <td>1~3</td>\n",
       "      <td>1</td>\n",
       "      <td>1</td>\n",
       "      <td>1</td>\n",
       "      <td>0</td>\n",
       "      <td>1</td>\n",
       "      <td>0</td>\n",
       "    </tr>\n",
       "  </tbody>\n",
       "</table>\n",
       "<p>1913 rows × 25 columns</p>\n",
       "</div>"
      ],
      "text/plain": [
       "           destination  passanger weather  temperature  time coupon  \\\n",
       "24     No Urgent Place  Friend(s)   Sunny           80  10AM    Bar   \n",
       "35                Home      Alone   Sunny           55   6PM    Bar   \n",
       "39                Work      Alone   Sunny           55   7AM    Bar   \n",
       "46     No Urgent Place  Friend(s)   Sunny           80  10AM    Bar   \n",
       "57                Home      Alone   Sunny           55   6PM    Bar   \n",
       "...                ...        ...     ...          ...   ...    ...   \n",
       "12663  No Urgent Place  Friend(s)   Sunny           80  10PM    Bar   \n",
       "12664  No Urgent Place  Friend(s)   Sunny           55  10PM    Bar   \n",
       "12667  No Urgent Place      Alone   Rainy           55  10AM    Bar   \n",
       "12670  No Urgent Place    Partner   Rainy           55   6PM    Bar   \n",
       "12682             Work      Alone   Snowy           30   7AM    Bar   \n",
       "\n",
       "      expiration gender age maritalStatus  ...  CoffeeHouse CarryAway  \\\n",
       "24            1d   Male  21        Single  ...        less1       4~8   \n",
       "35            1d   Male  21        Single  ...        less1       4~8   \n",
       "39            1d   Male  21        Single  ...        less1       4~8   \n",
       "46            1d   Male  46        Single  ...          4~8       1~3   \n",
       "57            1d   Male  46        Single  ...          4~8       1~3   \n",
       "...          ...    ...  ..           ...  ...          ...       ...   \n",
       "12663         1d   Male  26        Single  ...        never       1~3   \n",
       "12664         2h   Male  26        Single  ...        never       1~3   \n",
       "12667         1d   Male  26        Single  ...        never       1~3   \n",
       "12670         2h   Male  26        Single  ...        never       1~3   \n",
       "12682         1d   Male  26        Single  ...        never       1~3   \n",
       "\n",
       "      RestaurantLessThan20 Restaurant20To50 toCoupon_GEQ5min  \\\n",
       "24                     4~8            less1                1   \n",
       "35                     4~8            less1                1   \n",
       "39                     4~8            less1                1   \n",
       "46                     1~3            never                1   \n",
       "57                     1~3            never                1   \n",
       "...                    ...              ...              ...   \n",
       "12663                  4~8              1~3                1   \n",
       "12664                  4~8              1~3                1   \n",
       "12667                  4~8              1~3                1   \n",
       "12670                  4~8              1~3                1   \n",
       "12682                  4~8              1~3                1   \n",
       "\n",
       "      toCoupon_GEQ15min toCoupon_GEQ25min direction_same direction_opp  Y  \n",
       "24                    0                 0              0             1  1  \n",
       "35                    0                 0              1             0  1  \n",
       "39                    1                 1              0             1  1  \n",
       "46                    0                 0              0             1  0  \n",
       "57                    0                 0              1             0  0  \n",
       "...                 ...               ...            ...           ... ..  \n",
       "12663                 1                 0              0             1  0  \n",
       "12664                 1                 0              0             1  0  \n",
       "12667                 1                 0              0             1  0  \n",
       "12670                 1                 0              0             1  0  \n",
       "12682                 1                 1              0             1  0  \n",
       "\n",
       "[1913 rows x 25 columns]"
      ]
     },
     "execution_count": 30,
     "metadata": {},
     "output_type": "execute_result"
    }
   ],
   "source": [
    "df_bar_coupon = data.query('coupon == \"Bar\"')\n",
    "num_df_bar_coupon = df_bar_coupon[\"Y\"].count()\n",
    "num_df_bar_coupon\n",
    "df_bar_coupon"
   ]
  },
  {
   "cell_type": "markdown",
   "metadata": {},
   "source": [
    "2. What proportion of bar coupons were accepted?\n"
   ]
  },
  {
   "cell_type": "markdown",
   "metadata": {},
   "source": [
    "> *In the code below, t_ represent temporarty value*"
   ]
  },
  {
   "cell_type": "code",
   "execution_count": 38,
   "metadata": {},
   "outputs": [],
   "source": [
    "t_accept_bar_coupon = df_bar_coupon.query('Y == 1').count()\n",
    "accept_bar_coupon = t_accept_bar_coupon[\"Y\"]\n",
    "accept_bar_coupon\n",
    "\n",
    "proportion_bar_coupon = (accept_bar_coupon * 100) / num_df_bar_coupon\n",
    "#proportion_bar_coupon\n",
    "#print(np.round(proportion_bar_coupon,2),'% of the total observations, who recived the bar coupon, accepted the coupon')"
   ]
  },
  {
   "cell_type": "markdown",
   "metadata": {},
   "source": [
    "> **41.19 % of the total observations, who recived the bar coupon, accepted the coupon**"
   ]
  },
  {
   "cell_type": "code",
   "execution_count": null,
   "metadata": {},
   "outputs": [],
   "source": []
  },
  {
   "cell_type": "markdown",
   "metadata": {},
   "source": [
    "3. Compare the acceptance rate between those who went to a bar 3 or fewer times a month to those who went more.\n"
   ]
  },
  {
   "cell_type": "markdown",
   "metadata": {},
   "source": [
    "> *In the code below, u3 =  Under 3, 4o = Over 4, PT = Proportion Total*"
   ]
  },
  {
   "cell_type": "code",
   "execution_count": 54,
   "metadata": {},
   "outputs": [],
   "source": [
    "accept_went__u3 = df_bar_coupon.query('Bar == \"1~3\" and Y == 1').count()\n",
    "t_accept_went__u3 = accept_went__u3[\"Y\"]\n",
    "t_accept_went__u3\n",
    "#proportion_total_accepted_and_went_3_time_or_less\n",
    "\n",
    "accept_went_4o = df_bar_coupon.query('(Bar == \"4~8\" or Bar == \"gt8\") and Y == 1').count()\n",
    "t_accept_went_4o = accept_went_O4[\"Y\"]\n",
    "t_accept_went_4o\n",
    "\n",
    "#accept_bar_coupon - placeing it here but calculation is above.\n",
    "\n",
    "#print(accept_bar_coupon, t_accept_went__u3, temp_accept_went_4o)\n",
    "\n",
    "PT_t_accept_went__u3 = \\\n",
    "            + (t_accept_went__u3 * 100) / accept_bar_coupon \n",
    "\n",
    "\n",
    "#print(PT_t_accept_went__u3)\n",
    "#print(np.round(proportion_total_accepted_and_went_3_time_or_less,2),'% of those who accepted the Bar coupon, went to a bar 3 times or less')\n",
    "\n",
    "PT_t_accept_went_4o = \\\n",
    "            + (t_accept_went_4o * 100) / accept_bar_coupon \n",
    "\n",
    "#print(PT_t_accept_went_4o)\n",
    "#print(np.round(proportion_total_accepted_went_4_time_or_more,2),'% of those who accepted the Bar coupon, went to a bar 4 times or more.')"
   ]
  },
  {
   "cell_type": "markdown",
   "metadata": {},
   "source": [
    "> **31.09 % of those who accepted the Bar coupon, went to a bar 3 times or less.**\n",
    "\n",
    "> **18.65 % of those who accepted the Bar coupon, went to a bar 4 times or more.**"
   ]
  },
  {
   "cell_type": "code",
   "execution_count": null,
   "metadata": {},
   "outputs": [],
   "source": []
  },
  {
   "cell_type": "markdown",
   "metadata": {},
   "source": [
    "4. Compare the acceptance rate between drivers who go to a bar more than once a month and are over the age of 25 to the all others.  Is there a difference?\n"
   ]
  },
  {
   "cell_type": "markdown",
   "metadata": {},
   "source": [
    "> *In the code below, 1o = over 1, o25y = Over 25 years, u25y = Under 25 years,PT = Proportion Total*"
   ]
  },
  {
   "cell_type": "code",
   "execution_count": 55,
   "metadata": {},
   "outputs": [],
   "source": [
    "all_accepted = df_bar_coupon.query('(Bar == \"1~3\" or Bar == \"4~8\" or Bar == \"gt8\")').count()\n",
    "t_accept_went_1o = all_accepted[\"Y\"]\n",
    "t_accept_went_1o\n",
    "\n",
    "accept_went_1o_is_o25y = df_bar_coupon.query('(Bar == \"1~3\" or Bar == \"4~8\" or Bar == \"gt8\") and age >= \"25\"').count()\n",
    "t_accept_went_1o_is_o25y = accept_went_1o_is_o25y[\"Y\"]\n",
    "t_accept_went_1o_is_o25y\n",
    "\n",
    "accept_went_1o_is_u25y = df_bar_coupon.query('(Bar == \"1~3\" or Bar == \"4~8\" or Bar == \"gt8\") and age < \"25\"').count()\n",
    "t_accept_went_1o_is_u25y = accept_went_1o_is_u25y[\"Y\"]\n",
    "t_accept_went_1o_is_u25y\n",
    "\n",
    "\n",
    "\n",
    "PT_t_accept_went_1o_is_o25y = \\\n",
    "            + (t_accept_went_1o_is_o25y * 100) / t_accept_went_1o\n",
    "\n",
    "PT_t_accept_went_1o_is_u25y = \\\n",
    "            + (t_accept_went_1o_is_u25y * 100) / t_accept_went_1o\n",
    "\n",
    "\n",
    "#print(t_accept_went_1o, t_accept_went_1o_is_o25y, t_accept_went_1o_is_u25y)\n",
    "#print(np.round(PT_t_accept_went_1o_is_o25y,2),'% of those who accepted the Bar coupon, went to a bar 1 times or more and are 25 or older.')\n",
    "#print(np.round(PT_t_accept_went_1o_is_u25y,2),'% of those who accepted the Bar coupon, went to a bar 1 times or more and are under 25.')"
   ]
  },
  {
   "cell_type": "markdown",
   "metadata": {},
   "source": [
    "> **72.2 % of those who accepted the Bar coupon, went to a bar 1 times or more and are 25 or older.**\n",
    "\n",
    "> **27.8 % of those who accepted the Bar coupon, went to a bar 1 times or more and are under 25.**"
   ]
  },
  {
   "cell_type": "markdown",
   "metadata": {},
   "source": [
    "5. Use the same process to compare the acceptance rate between drivers who go to bars more than once a month and had passengers that were not a kid and had occupations other than farming, fishing, or forestry. \n"
   ]
  },
  {
   "cell_type": "markdown",
   "metadata": {},
   "source": [
    "> *In the code below, K = Kids, B = Bar, PT = Proportion Total*"
   ]
  },
  {
   "cell_type": "code",
   "execution_count": 60,
   "metadata": {},
   "outputs": [
    {
     "name": "stdout",
     "output_type": "stream",
     "text": [
      "530 572 92.65734265734265\n"
     ]
    }
   ],
   "source": [
    "all_accept_no_K = df_bar_coupon.query('(passanger != \"Kid(s)\") and \\\n",
    "+ (Bar == \"1~3\" or Bar == \"4~8\" or Bar == \"gt8\") and (occupation != \"Farming Fishing & Forestry\")').count()\n",
    "t_all_accept_no_K = all_accept_no_K[\"Y\"]\n",
    "t_all_accept_no_K\n",
    "\n",
    "all_accept_B = df_bar_coupon.query('(Bar == \"1~3\" or Bar == \"4~8\" or Bar == \"gt8\")').count()\n",
    "t_all_accept_B = all_accept_B[\"Y\"]\n",
    "t_all_accept_B\n",
    "\n",
    "proportion_accepted_without_kids = \\\n",
    "            + (t_all_accept_no_K * 100) / t_all_accept_B\n",
    "\n",
    "\n",
    "print(t_all_accept_no_K, t_all_accept_B, proportion_accepted_without_kids)\n",
    "#print(np.round(proportion_accepted_without_kids,2),'% of those who accepted the Bar coupon and went to a bar 1 times or more, had no kids passanger and did not work in farming, fishing, or forestry.')"
   ]
  },
  {
   "cell_type": "markdown",
   "metadata": {},
   "source": [
    "> **92.66 % of those who accepted the Bar coupon and went to a bar 1 times or more, had no kids passanger and did not work in farming, fishing, or forestry.**"
   ]
  },
  {
   "cell_type": "markdown",
   "metadata": {},
   "source": [
    "6. Compare the acceptance rates between those drivers who:\n",
    "\n",
    "- go to bars more than once a month, had passengers that were not a kid, and were not widowed *OR*\n",
    "- go to bars more than once a month and are under the age of 30 *OR*\n",
    "- go to cheap restaurants more than 4 times a month and income is less than 50K. \n",
    "\n"
   ]
  },
  {
   "cell_type": "markdown",
   "metadata": {},
   "source": [
    "> *In the code below, K = Kids, W = widowed, u30 = Under 30, u50K = Under 50K income, chp_res =  cheap restaurants ,PT = Proportion Total*"
   ]
  },
  {
   "cell_type": "code",
   "execution_count": 67,
   "metadata": {},
   "outputs": [
    {
     "name": "stdout",
     "output_type": "stream",
     "text": [
      "530 318 243 1913\n",
      "27.71 % of those who accepted the Bar coupon and went to a bar 1 times or more, had no kids passanger and were not widowed\n",
      "16.62 % of those who accepted the Bar coupon and went to a bar 1 times or more, are under the age of 30\n",
      "12.7 % of those who accepted the Bar coupon and went to a bar 1 times or more, go to cheap restaurants more than 4 times a month and income is less than 50K.\n"
     ]
    }
   ],
   "source": [
    "all_accepted_coupon = df_bar_coupon[\"Y\"].count()\n",
    "all_accepted_coupon\n",
    "\n",
    "accepted_coupon_no_K_not_W = df_bar_coupon.query('(passanger != \"Kid(s)\") and \\\n",
    "+ (Bar == \"1~3\" or Bar == \"4~8\" or Bar == \"gt8\") and (maritalStatus != \"Widowed\")').count()\n",
    "t_accepted_coupon_no_K_not_W = accepted_coupon_no_K_not_W[\"Y\"]\n",
    "t_accepted_coupon_no_K_not_W\n",
    "\n",
    "PT_accepted_no_K_not_W = \\\n",
    "            + (t_accepted_coupon_no_K_not_W * 100) / all_accepted_coupon\n",
    "\n",
    "\n",
    "\n",
    "accepted_coupon_no_K_u30 = df_bar_coupon.query('(age <= \"30\") and \\\n",
    "+ (Bar == \"1~3\" or Bar == \"4~8\" or Bar == \"gt8\")').count()\n",
    "t_accepted_coupon_no_K_u30 = accepted_coupon_no_K_u30[\"Y\"]\n",
    "t_accepted_coupon_no_K_u30\n",
    "\n",
    "PT_accepted_coupon_no_K_u30 = \\\n",
    "            + (t_accepted_coupon_no_K_u30 * 100) / all_accepted_coupon\n",
    "\n",
    "\n",
    "\n",
    "accepted_coupon_chp_res_in_u50K = \\\n",
    "    + df_bar_coupon.query('(income == \"Less than $12500\" or income == \"$12500 - $24999\" or income == \"$25000 - $37499\" or income == \"$$37500 - $49999\") and (RestaurantLessThan20 == \"4~8\" or RestaurantLessThan20 == \"gt8\")').count()\n",
    "t_accepted_coupon_chp_res_in_u50K = accepted_coupon_chp_res_in_u50K[\"Y\"]\n",
    "t_accepted_coupon_chp_res_in_u50K\n",
    "\n",
    "PT_accepted_coupon_chp_res_in_u50K = \\\n",
    "            + (t_accepted_coupon_chp_res_in_u50K * 100) / all_accepted_coupon\n",
    "\n",
    "\n",
    "\n",
    "print(t_accepted_coupon_no_K_not_W, t_accepted_coupon_no_kids_u30, t_accepted_coupon_chp_res_in_u50K, all_accepted_coupon)\n",
    "\n",
    "\n",
    "print(np.round(PT_accepted_no_K_not_W,2),'% of those who accepted the Bar coupon and went to a bar 1 times or more, had no kids passanger and were not widowed')\n",
    "print(np.round(PT_accepted_coupon_no_K_u30,2),'% of those who accepted the Bar coupon and went to a bar 1 times or more, are under the age of 30')\n",
    "print(np.round(PT_accepted_coupon_chp_res_in_u50K,2),'% of those who accepted the Bar coupon and went to a bar 1 times or more, go to cheap restaurants more than 4 times a month and income is less than 50K.')\n",
    "\n"
   ]
  },
  {
   "cell_type": "markdown",
   "metadata": {},
   "source": [
    "> **27.71 % of those who accepted the Bar coupon and went to a bar 1 times or more, had no kids passanger and were not widowed.**\n",
    "\n",
    "> **16.62 % of those who accepted the Bar coupon and went to a bar 1 times or more, are under the age of 30.**\n",
    "\n",
    ">**12.7 % of those who accepted the Bar coupon and went to a bar 1 times or more, go to cheap restaurants more than 4 times a month and income is less than 50K.**"
   ]
  },
  {
   "cell_type": "markdown",
   "metadata": {},
   "source": [
    "7.  Based on these observations, what do you hypothesize about drivers who accepted the bar coupons?"
   ]
  },
  {
   "cell_type": "markdown",
   "metadata": {},
   "source": [
    "##### Hypothesize\n",
    "\n",
    "Our driver profile is a person who is between the ages of 25 and 30 years old. \n",
    "They most likely visiting a bar, less then 3 times a month and not widowed. \n",
    "They are not working in farming, fishing, or forestry and respect the law."
   ]
  },
  {
   "cell_type": "code",
   "execution_count": 107,
   "metadata": {},
   "outputs": [
    {
     "name": "stdout",
     "output_type": "stream",
     "text": [
      "Our driver represent  1.57 % of total drivers who accepted the bar coupon\n"
     ]
    }
   ],
   "source": [
    "driver = df_bar_coupon.query('(passanger != \"Kid(s)\") and (age <= \"30\") and \\\n",
    "+ (Bar == \"1~3\") and (maritalStatus != \"Widowed\") and \\\n",
    "+ (occupation != \"Farming Fishing & Forestry\") and \\\n",
    "+ (income == \"Less than $12500\" or income == \"$12500 - $24999\" or income == \"$25000 - $37499\" or income == \"$$37500 - $49999\") and \\\n",
    "+ (RestaurantLessThan20 == \"4~8\" or RestaurantLessThan20 == \"gt8\")').count()\n",
    "t_driver = driver[\"Y\"]\n",
    "t_driver\n",
    "\n",
    "PT_t_driver = \\\n",
    "            + (t_driver * 100) / all_accepted_coupon\n",
    "\n",
    "PT_t_driver\n",
    "\n",
    "print('Our driver represent ' ,np.round(PT_t_driver,2), '% of total drivers who accepted the bar coupon')"
   ]
  },
  {
   "cell_type": "markdown",
   "metadata": {},
   "source": [
    ">**Our driver represent  1.57 % of total drivers who accepted the bar coupon.**"
   ]
  },
  {
   "cell_type": "markdown",
   "metadata": {},
   "source": [
    "#### Bit more investigation on this\n",
    "\n",
    " - Is it likely that they go to more upscale restaurant, like 20-50?\n",
    "\n",
    " * Does the income change the profile?\n",
    "\n",
    " + Does gender have an impact if we ignore the income?"
   ]
  },
  {
   "cell_type": "code",
   "execution_count": 106,
   "metadata": {},
   "outputs": [
    {
     "name": "stdout",
     "output_type": "stream",
     "text": [
      "Our driver represents only 1.0 % of total drivers who accepted the bar coupon, even if changing the reastaurant scall, Restaurant 20 To 50.\n"
     ]
    }
   ],
   "source": [
    "driver = df_bar_coupon.query('(passanger != \"Kid(s)\") and (age <= \"30\") and \\\n",
    "+ (Bar == \"1~3\") and (maritalStatus != \"Widowed\") and \\\n",
    "+ (occupation != \"Farming Fishing & Forestry\") and \\\n",
    "+ (income == \"Less than $12500\" or income == \"$12500 - $24999\" or income == \"$25000 - $37499\" or income == \"$$37500 - $49999\") and \\\n",
    "+ (Restaurant20To50 == \"4~8\" or Restaurant20To50 == \"gt8\")').count()\n",
    "t_driver = driver[\"Y\"]\n",
    "t_driver\n",
    "\n",
    "PT_t_driver = \\\n",
    "            + (t_driver * 100) / all_accepted_coupon\n",
    "\n",
    "PT_t_driver\n",
    "\n",
    "print('Our driver represents only' ,np.round(PT_t_driver), '% of total drivers who accepted the bar coupon, even if changing the reastaurant scall, Restaurant 20 To 50.')"
   ]
  },
  {
   "cell_type": "markdown",
   "metadata": {},
   "source": [
    ">**Our driver represents only 1.0 % of total drivers who accepted the bar coupon, even if changing the reastaurant scall, Restaurant 20 To 50.**"
   ]
  },
  {
   "cell_type": "code",
   "execution_count": 105,
   "metadata": {},
   "outputs": [
    {
     "name": "stdout",
     "output_type": "stream",
     "text": [
      "Our driver represents only 0.0 % of total drivers who accepted the bar coupon, if we change the income to over 50K, we loos all data, there are no drivered that accepting the coupon.\n"
     ]
    }
   ],
   "source": [
    "driver = df_bar_coupon.query('(passanger != \"Kid(s)\") and (age <= \"30\") and \\\n",
    "+ (Bar == \"1~3\") and (maritalStatus != \"Widowed\") and \\\n",
    "+ (occupation != \"Farming Fishing & Forestry\") and \\\n",
    "+ (occupation != \"Farming Fishing & Forestry\") and \\\n",
    "+ (income == \"$100000 or More\" or income == \"$50000 - $62499\" or income == \"$62500 - $74999\" or income == \"$75000 - $87499\" ) and \\\n",
    "+ (Restaurant20To50 == \"4~8\" or Restaurant20To50 == \"gt8\")').count()\n",
    "t_driver = driver[\"Y\"]\n",
    "t_driver\n",
    "\n",
    "PT_t_driver = \\\n",
    "            + (t_driver * 100) / all_accepted_coupon\n",
    "\n",
    "PT_t_driver\n",
    "\n",
    "print('Our driver represents only' ,np.round(PT_t_driver), '% of total drivers who accepted the bar coupon, if we change the income to over 50K, we loos all data, there are no drivered that accepting the coupon.')"
   ]
  },
  {
   "cell_type": "markdown",
   "metadata": {},
   "source": [
    ">**Our driver represents only 0.0 % of total drivers who accepted the bar coupon, if we change the income to over 50K, we loos all data, there are no drivered that accepting the coupon.**"
   ]
  },
  {
   "cell_type": "code",
   "execution_count": 118,
   "metadata": {},
   "outputs": [
    {
     "name": "stdout",
     "output_type": "stream",
     "text": [
      "Our driver represent  2.04 % of total drivers who accepted the bar coupon\n"
     ]
    }
   ],
   "source": [
    "driver = df_bar_coupon.query('(passanger != \"Kid(s)\") and (age <= \"30\") and \\\n",
    "+ (Bar == \"1~3\") and (maritalStatus != \"Widowed\") and \\\n",
    "+ (occupation != \"Farming Fishing & Forestry\") and \\\n",
    "+ (gender != \"Male\") and \\\n",
    "+ (RestaurantLessThan20 == \"4~8\" or RestaurantLessThan20 == \"gt8\")').count()\n",
    "t_driver = driver[\"Y\"]\n",
    "t_driver\n",
    "\n",
    "PT_t_driver = \\\n",
    "            + (t_driver * 100) / all_accepted_coupon\n",
    "\n",
    "PT_t_driver\n",
    "\n",
    "print('Our driver represent ' ,np.round(PT_t_driver,2), '% of total drivers who accepted the bar coupon')"
   ]
  },
  {
   "cell_type": "markdown",
   "metadata": {},
   "source": [
    ">**if we ignot the income, Our driver represent  3.97 % of total drivers who accepted the bar coupon, female at this case ate 1.93 % of that and male are 2.04% of that.**>"
   ]
  },
  {
   "cell_type": "markdown",
   "metadata": {},
   "source": [
    "### Independent Investigation\n",
    "\n",
    "Using the bar coupon example as motivation, you are to explore one of the other coupon groups and try to determine the characteristics of passengers who accept the coupons.  "
   ]
  },
  {
   "cell_type": "markdown",
   "metadata": {},
   "source": [
    "##### Total recived 'Coffee House' coupon"
   ]
  },
  {
   "cell_type": "code",
   "execution_count": 124,
   "metadata": {},
   "outputs": [
    {
     "data": {
      "text/plain": [
       "3816"
      ]
     },
     "execution_count": 124,
     "metadata": {},
     "output_type": "execute_result"
    }
   ],
   "source": [
    "df_CH_coupon = data.query('coupon == \"Coffee House\"')\n",
    "t_CH_coupon = df_CH_coupon[\"Y\"].count()\n",
    "t_CH_coupon"
   ]
  },
  {
   "cell_type": "markdown",
   "metadata": {},
   "source": [
    "##### Total recived and eccepted as a % of the total"
   ]
  },
  {
   "cell_type": "code",
   "execution_count": 123,
   "metadata": {},
   "outputs": [
    {
     "name": "stdout",
     "output_type": "stream",
     "text": [
      "49.63 % of the total observations, who recived the Coffee House coupon, accepted the coupon\n"
     ]
    }
   ],
   "source": [
    "t_df_CH_coupon = df_CH_coupon.query('Y == 1').count()\n",
    "accept_CH_coupon = t_df_CH_coupon[\"Y\"]\n",
    "#accept_CH_coupon\n",
    "\n",
    "PT_accept_CH_coupon = (accept_CH_coupon * 100) / t_CH_coupon\n",
    "#PT_accept_CH_coupon\n",
    "print(np.round(PT_accept_CH_coupon,2),'% of the total observations, who recived the Coffee House coupon, accepted the coupon')"
   ]
  },
  {
   "cell_type": "code",
   "execution_count": null,
   "metadata": {},
   "outputs": [],
   "source": []
  },
  {
   "cell_type": "code",
   "execution_count": null,
   "metadata": {},
   "outputs": [],
   "source": []
  },
  {
   "cell_type": "code",
   "execution_count": null,
   "metadata": {},
   "outputs": [],
   "source": []
  },
  {
   "cell_type": "code",
   "execution_count": null,
   "metadata": {},
   "outputs": [],
   "source": []
  },
  {
   "cell_type": "code",
   "execution_count": null,
   "metadata": {},
   "outputs": [],
   "source": []
  },
  {
   "cell_type": "code",
   "execution_count": null,
   "metadata": {},
   "outputs": [],
   "source": []
  },
  {
   "cell_type": "code",
   "execution_count": null,
   "metadata": {},
   "outputs": [],
   "source": []
  },
  {
   "cell_type": "markdown",
   "metadata": {},
   "source": [
    "### Visualization"
   ]
  },
  {
   "cell_type": "markdown",
   "metadata": {},
   "source": [
    "##### There are more females then males in this data set"
   ]
  },
  {
   "cell_type": "code",
   "execution_count": 147,
   "metadata": {},
   "outputs": [
    {
     "data": {
      "image/png": "[encoded data removed]"
     },
     "metadata": {},
     "output_type": "display_data"
    }
   ],
   "source": [
    "hist = px.histogram(data, x= 'gender')\n",
    "hist.show('png')"
   ]
  },
  {
   "cell_type": "markdown",
   "metadata": {},
   "source": [
    "##### More females rejected the coupon"
   ]
  },
  {
   "cell_type": "code",
   "execution_count": 148,
   "metadata": {},
   "outputs": [
    {
     "data": {
      "image/png": "[encoded data removed]"
     },
     "metadata": {},
     "output_type": "display_data"
    }
   ],
   "source": [
    "hist = px.histogram(data.query('Y == 0'), x= 'gender')\n",
    "hist.show('png')"
   ]
  },
  {
   "cell_type": "markdown",
   "metadata": {},
   "source": [
    "##### Most of those who acceptef the coupn where either Single Or Married"
   ]
  },
  {
   "cell_type": "code",
   "execution_count": 150,
   "metadata": {},
   "outputs": [
    {
     "data": {
      "image/png": "[encoded data removed]"
     },
     "metadata": {},
     "output_type": "display_data"
    }
   ],
   "source": [
    "hist = px.histogram(data.query('Y == 1'), x= 'maritalStatus')\n",
    "hist.show('png')"
   ]
  },
  {
   "cell_type": "markdown",
   "metadata": {},
   "source": [
    "##### Students and Unemployed people are the largest groups that accepted the coupon."
   ]
  },
  {
   "cell_type": "code",
   "execution_count": 152,
   "metadata": {},
   "outputs": [
    {
     "data": {
      "image/png": "[encoded data removed]"
     },
     "metadata": {},
     "output_type": "display_data"
    }
   ],
   "source": [
    "hist = px.histogram(data.query('Y == 1'), x= 'occupation')\n",
    "hist.show('png')"
   ]
  },
  {
   "cell_type": "code",
   "execution_count": null,
   "metadata": {},
   "outputs": [],
   "source": []
  },
  {
   "cell_type": "code",
   "execution_count": null,
   "metadata": {},
   "outputs": [],
   "source": []
  },
  {
   "cell_type": "code",
   "execution_count": null,
   "metadata": {},
   "outputs": [],
   "source": []
  }
 ],
 "metadata": {
  "kernelspec": {
   "display_name": "Python 3 (ipykernel)",
   "language": "python",
   "name": "python3"
  },
  "language_info": {
   "codemirror_mode": {
    "name": "ipython",
    "version": 3
   },
   "file_extension": ".py",
   "mimetype": "text/x-python",
   "name": "python",
   "nbconvert_exporter": "python",
   "pygments_lexer": "ipython3",
   "version": "3.9.13"
  },
  "widgets": {
   "application/vnd.jupyter.widget-state+json": {
    "state": {},
    "version_major": 2,
    "version_minor": 0
   }
  }
 },
 "nbformat": 4,
 "nbformat_minor": 4
}
